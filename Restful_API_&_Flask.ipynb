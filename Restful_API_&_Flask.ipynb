{
  "nbformat": 4,
  "nbformat_minor": 0,
  "metadata": {
    "colab": {
      "provenance": []
    },
    "kernelspec": {
      "name": "python3",
      "display_name": "Python 3"
    },
    "language_info": {
      "name": "python"
    }
  },
  "cells": [
    {
      "cell_type": "code",
      "execution_count": null,
      "metadata": {
        "id": "DqAsxN1qbHlp"
      },
      "outputs": [],
      "source": [
        "           Restful API & Flask"
      ]
    },
    {
      "cell_type": "markdown",
      "source": [
        "1.What is a RESTful API?\n",
        "-> A RESTful API (Representational State Transfer API) is a standardized approach for enabling communication between computer systems over the internet. It leverages the HTTP protocol to facilitate interactions between clients (like web browsers or mobile apps) and servers, allowing clients to perform operations on resources—such as retrieving, creating, updating, or deleting data—through well-defined endpoints."
      ],
      "metadata": {
        "id": "QaveaaSNbR5r"
      }
    },
    {
      "cell_type": "markdown",
      "source": [
        "2.Explain the concept of API specification?\n",
        "-> An API specification is like the blueprint or contract for an API—it defines how the API behaves, not just what it does. It provides a structured, standardized description of an API’s capabilities (endpoints, data formats, auth, errors, etc.) in a format both humans and machines can understand. Here's a breakdown of the concept:\n",
        "\n",
        "Key Concepts of an API Specification:\n",
        "Endpoints\n",
        "\n",
        "These are the specific paths or URLs where the API can be accessed.\n",
        "Example: GET /users, POST /orders.\n",
        "HTTP Methods\n",
        "Describes what action to take on the endpoint.\n",
        "Common methods include: GET, POST, PUT, DELETE, PATCH.\n",
        "Request Format\n",
        "Defines what the client must send to the server.\n",
        "Includes parameters (query, path, header), body structure, and content types (e.g., application/json).\n",
        "Response Format\n",
        "Specifies the structure of data returned by the API.\n",
        "Includes status codes (like 200 OK, 404 Not Found) and response body formats.\n",
        "Authentication/Authorization\n",
        "Describes how access to the API is controlled (e.g., API keys, OAuth tokens).\n",
        "Error Handling\n",
        "Lists possible error messages and codes, so developers know how to handle failures.\n",
        "Data Models/Schemas\n",
        "Defines how data is structured, often using JSON Schema or similar.\n",
        "Example: a User object might have fields like id, name, email.\n",
        "\n",
        "\n"
      ],
      "metadata": {
        "id": "9p9GPSmWbjXa"
      }
    },
    {
      "cell_type": "markdown",
      "source": [
        "3. What is Flask, and why is it popular for building APIs?\n",
        "-> Flask is a lightweight web framework written in Python that is widely used to build web applications and APIs (Application Programming Interfaces).\n",
        "\n",
        "Flask Is Popular for Building APIs\n",
        "Simplicity and Flexibility->\n",
        "Flask has a low barrier to entry. You can create an API endpoint with just a few lines of code.\n",
        "You control everything — routing, logic, middleware — without being forced into a rigid structure.\n",
        "Quick Prototyping\n",
        "Ideal for quickly spinning up RESTful APIs or microservices.\n",
        "Useful for MVPs, internal tools, or proof-of-concept projects.\n",
        "Pythonic and Easy to Learn\n",
        "Follows Python’s philosophy of readability and simplicity.\n",
        "Easy to learn for Python developers.\n",
        "Strong Community and Ecosystem\n",
        "Large number of extensions for tasks like authentication (Flask-Login), databases (Flask-SQLAlchemy), and more.\n",
        "Lots of documentation and tutorials available.\n",
        "Good for REST APIs\n",
        "With tools like Flask-RESTful, Flask-RESTX, or Flask-Smorest, building RESTful APIs becomes even easier."
      ],
      "metadata": {
        "id": "sV-zjErzdqSD"
      }
    },
    {
      "cell_type": "markdown",
      "source": [
        "4. What is routing in Flask?\n",
        "-> Routing in Flask is the process of associating URLs with functions in your application. When a user visits a specific URL (or \"route\"), Flask determines which function should handle the request based on the routing rules."
      ],
      "metadata": {
        "id": "oH3vi3QTePuS"
      }
    },
    {
      "cell_type": "markdown",
      "source": [
        "5. How do you create a simple Flask application?\n",
        "-> Creating a simple Flask application is straightforward and can be done in just a few steps. Below is a step-by-step guide to get you started.\n",
        "Step 1: Install Flask\n",
        "You need Python installed (preferably 3.7+), then use pip.\n",
        "Step 2: Create Your Flask App\n",
        "Create a file called app.py (or any name you prefer).\n",
        "Step 3: Run the Application\n",
        "In your terminal, run:\n",
        "Step 4: Add More Routes (Optional)\n",
        "You can add more endpoints easily:\n",
        "tep 5: JSON Response Example (API Style)\n",
        "If you want to build an API-style response:"
      ],
      "metadata": {
        "id": "8NVrXN5rehM4"
      }
    },
    {
      "cell_type": "markdown",
      "source": [
        "6.What are HTTP methods used in RESTful APIs?\n",
        "-> In RESTful APIs, HTTP methods (also called verbs) define the type of action to perform on a resource. Each method aligns with a specific CRUD operation (Create, Read, Update, Delete).\n",
        "Method\tCRUD Action\tDescription\n",
        "GET\tRead\tRetrieve data from the server (e.g., fetch a user or list of items).\n",
        "POST\tCreate\tSend data to the server to create a new resource (e.g., add a new product).\n",
        "PUT\tUpdate\tReplace an existing resource completely (e.g., update an entire user record).\n",
        "PATCH\tUpdate\tPartially update an existing resource (e.g., change just the email field).\n",
        "DELETE\tDelete\tRemove a resource from the server."
      ],
      "metadata": {
        "id": "21urLXqBfQ6y"
      }
    },
    {
      "cell_type": "markdown",
      "source": [
        "7. What is the purpose of the @app.route() decorator in Flask?\n",
        "-> The @app.route() decorator in Flask is used to bind a URL path to a function, allowing you to define what should happen when a specific URL is accessed in your web application.\n",
        "Purpose of @app.route()\n",
        "It registers a route with the Flask application.\n",
        "\n",
        "Associates a URL endpoint with a view function (a function that returns the response for that route)."
      ],
      "metadata": {
        "id": "DYgYnon_fwKw"
      }
    },
    {
      "cell_type": "markdown",
      "source": [
        "8. What is the difference between GET and POST HTTP methods?\n",
        "-> | Feature               | **GET**                                                           | **POST**                                                                       |\n",
        "| --------------------- | ----------------------------------------------------------------- | ------------------------------------------------------------------------------ |\n",
        "| **Purpose**           | Retrieves data from the server                                    | Sends data to the server to create/update resources                            |\n",
        "| **Data Transmission** | Appends data to the URL (e.g., `?id=123`)                         | Sends data in the request body                                                 |\n",
        "| **Visibility**        | Data is visible in the URL                                        | Data is hidden from the URL                                                    |\n",
        "| **Bookmarkable**      | Yes – URLs can be bookmarked                                      | No – request data is not stored in URL                                         |\n",
        "| **Use in Forms**      | Ideal for simple queries/searches                                 | Ideal for submitting sensitive or large amounts of data                        |\n",
        "| **Data Length Limit** | Limited by URL length (usually \\~2048 characters)                 | Virtually unlimited (depends on server configuration)                          |\n",
        "| **Security**          | Less secure – data exposed in URL                                 | More secure – data not shown in URL (still use HTTPS for sensitive info)       |\n",
        "| **Idempotence**       | Yes – calling the same GET request repeatedly doesn’t change data | Not necessarily – POST can cause changes like submitting a form multiple times |\n"
      ],
      "metadata": {
        "id": "JGCFog2BgPl0"
      }
    },
    {
      "cell_type": "markdown",
      "source": [
        "9.How do you handle errors in Flask APIs?\n",
        "-> Handling errors in Flask APIs involves providing clear, consistent responses to clients when something goes wrong — whether it's a bad request, a missing resource, or an internal server issue. Here's a complete guide on how to handle errors in Flask APIs:\n",
        "1. Using @app.errorhandler\n",
        "This handles specific HTTP or custom exceptions globally.\n",
        "2. Using try-except in Routes\n",
        "Catch specific errors within routes for more granular control.\n",
        "3. Custom Exception Classes\n",
        "Create structured, reusable error types.\n",
        "4. Logging Errors\n",
        "Use logging to keep track of unexpected issues.\n",
        "5. Returning Consistent Error Responses\n",
        "Always return structured JSON responses for errors:"
      ],
      "metadata": {
        "id": "a9S4al9thc1w"
      }
    },
    {
      "cell_type": "markdown",
      "source": [
        "10. How do you connect Flask to a SQL database?\n",
        "-> Connecting Flask to a SQL database involves a few steps, typically using an Object Relational Mapper (ORM) like SQLAlchemy, or you can use raw SQL via sqlite3, psycopg2, or mysql-connector. Here's a step-by-step guide using Flask with SQLAlchemy, which is the most common and cleanest approach.\n",
        "\n"
      ],
      "metadata": {
        "id": "jERUV-jTibk5"
      }
    },
    {
      "cell_type": "markdown",
      "source": [
        "11.What is the role of Flask-SQLAlchemy?\n",
        "-> Flask-SQLAlchemy is an extension for Flask that integrates SQLAlchemy (a powerful Python SQL toolkit and Object Relational Mapper) into your Flask applications.\n",
        "\n",
        "Role and Purpose of Flask-SQLAlchemy\n",
        "Feature\tDescription\n",
        " * ORM Integration\tAllows you to define database tables as Python classes (models) and interact with them like regular Python objects instead of writing raw SQL.\n",
        "*  Database Connection Management\tHandles setting up and tearing down database  connections with Flask’s request lifecycle.\n",
        " * Simplifies SQLAlchemy Configuration\tAdds sensible defaults and Flask-specific helpers on top of plain SQLAlchemy.\n",
        "*  Supports Multiple Databases\tWorks with SQLite, PostgreSQL, MySQL, Oracle, etc., by just changing the URI.\n",
        "*  Migration Compatibility\tWorks well with tools like Flask-Migrate (which uses Alembic) for handling schema migrations."
      ],
      "metadata": {
        "id": "D9Ts_u5ejJIY"
      }
    },
    {
      "cell_type": "markdown",
      "source": [
        "12.What are Flask blueprints, and how are they useful?\n",
        "-> Flask Blueprints are a way to organize your Flask application into smaller, reusable, and modular components. They help you structure large applications by splitting up routes, views, templates, static files, and other functionality into separate logical units.\n",
        "\n"
      ],
      "metadata": {
        "id": "aLlElqBIj16X"
      }
    },
    {
      "cell_type": "markdown",
      "source": [
        "13. What is the purpose of Flask's request object?\n",
        "-> The request object in Flask is used to access incoming request data from the client. It's part of the flask module and is essential for handling HTTP requests like GET, POST, PUT, etc.\n",
        "\n",
        " Flask’s request Object\n",
        "It gives you access to:\n",
        "\n",
        "Use Case\tAttribute\n",
        "Form data (POST)\trequest.form\n",
        "Query parameters (GET)\trequest.args\n",
        "JSON payload\trequest.json\n",
        "Request headers\trequest.headers\n",
        "File uploads\trequest.files\n",
        "HTTP method\trequest.method\n",
        "Full URL/path\trequest.url, request.path\n",
        "Cookies\trequest.cookies"
      ],
      "metadata": {
        "id": "hfx8kDpwkOxU"
      }
    },
    {
      "cell_type": "markdown",
      "source": [
        "14. How do you create a RESTful API endpoint using Flask?\n",
        "->  Creating a RESTful API endpoint using Flask is straightforward and powerful. Here’s a step-by-step guide with a simple example\n",
        "1. Install Flask (if not already installed)\n",
        "2. Create a Simple RESTful API"
      ],
      "metadata": {
        "id": "I6oEcFqmktCe"
      }
    },
    {
      "cell_type": "markdown",
      "source": [
        "15. What is the purpose of Flask's jsonify() function?\n",
        "-> The purpose of Flask's jsonify() function is to convert Python data structures (like dictionaries and lists) into a properly formatted JSON response for your API clients.\n",
        "Feature\tDescription\n",
        "*  Automatic JSON conversion\tConverts Python dict, list, etc. to JSON\n",
        "*  Sets correct MIME type\tAdds Content-Type: application/json header\n",
        "*  Handles Unicode & special characters\tSafely encodes data\n",
        "*  Returns a Flask Response object\tReady to return from a route"
      ],
      "metadata": {
        "id": "VvwvzE41lgKh"
      }
    },
    {
      "cell_type": "markdown",
      "source": [
        "16.Explain Flask’s url_for() function?\n",
        "-> url_for() is a utility function that generates URLs to your Flask routes (endpoints) dynamically by using the function name of the route instead of hardcoding the URL paths."
      ],
      "metadata": {
        "id": "j-Sr_iXcmD03"
      }
    },
    {
      "cell_type": "markdown",
      "source": [
        "17.How does Flask handle static files (CSS, JavaScript, etc.)?\n",
        "-> Here’s how Flask handles static files like CSS, JavaScript, images, and other assets:\n",
        "\n",
        "an HTML Template\n",
        "If you use Flask with HTML templates, you typically use url_for() to generate the correct URL:\n",
        " Access Static Files\n",
        "If your Flask app is running locally, access static files directly via:\n",
        " Customizing the Static Folder (Optional)\n",
        "If you want to change the static folder name or location:\n",
        "\n"
      ],
      "metadata": {
        "id": "rtDwmg7xmfiP"
      }
    },
    {
      "cell_type": "markdown",
      "source": [
        "18. What is an API specification, and how does it help in building a Flask API?\n",
        "-> An API specification is a formal, detailed document or description that defines how an API behaves — including:\n",
        "\n",
        "The available endpoints (URLs)\n",
        "\n",
        "Supported HTTP methods (GET, POST, etc.)\n",
        "\n",
        "Expected request formats (parameters, headers, body)\n",
        "\n",
        "Structure of responses (status codes, data format)\n",
        "\n",
        "Authentication requirements\n",
        "\n",
        "Error handling details\n",
        "\n",
        "It acts as a contract between the API provider and consumers (developers), specifying exactly how to use the API and what to expect.\n",
        "\n",
        "an API Specification Help in Building a Flask API?\n",
        "Clear Blueprint\n",
        "\n",
        "It gives you a roadmap for what routes/endpoints you need to create in Flask and how they should behave.\n",
        "\n",
        "Consistency\n",
        "\n",
        "Ensures your API behaves predictably and uniformly, especially important when the API grows or multiple developers are involved.\n",
        "\n",
        "Documentation & Communication\n",
        "\n",
        "Serves as documentation for anyone using or working on the API.\n",
        "\n",
        "Tools like Swagger UI can generate interactive docs automatically from specifications like OpenAPI.\n",
        "\n",
        "Auto-Generation & Validation\n",
        "\n",
        "Some tools can auto-generate Flask route skeletons or client SDKs from an API spec.\n",
        "\n",
        "Helps validate incoming requests and outgoing responses against the spec to avoid errors.\n",
        "\n",
        "Testing\n",
        "\n",
        "Makes it easier to write tests ensuring your Flask API meets the defined contract."
      ],
      "metadata": {
        "id": "TuzoCy7xoI8m"
      }
    },
    {
      "cell_type": "markdown",
      "source": [
        "19.What are HTTP status codes, and why are they important in a Flask API?\n",
        "-> HTTP status codes are standardized numerical codes sent by a web server in response to a client's request. They indicate whether the request was successful, if there was an error, or if further action is needed.\n",
        "\n",
        "HTTP Status Codes Important in a Flask API:-\n",
        "Communicate Outcome to Client\n",
        "\n",
        "They tell the client if the request was successful (200 OK), if something was wrong with their request (400 Bad Request), or if the server had a problem (500 Internal Server Error).\n",
        "\n",
        "Standardized Responses\n",
        "\n",
        "Clients and browsers rely on status codes to understand how to handle the response.\n",
        "\n",
        "Debugging and Logging\n",
        "\n",
        "Status codes help developers quickly identify issues and log important information.\n",
        "\n",
        "Control API Flow\n",
        "\n",
        "Allow conditional handling on client side, e.g., retry on 503 Service Unavailable."
      ],
      "metadata": {
        "id": "ReU-S8Aqozrp"
      }
    },
    {
      "cell_type": "markdown",
      "source": [
        "20.How do you handle POST requests in Flask?\n",
        "-> Handling POST requests in Flask is straightforward! Here’s how you can do it step-by-step:\n",
        "1. Define a Route That Accepts POST\n",
        "Use the methods argument in @app.route() to specify that the route should accept POST requests:\n",
        "2. Access POST Data\n",
        "POST data usually comes in the request body and can be sent in different formats:\n",
        "Form data (e.g., from an HTML form)\n",
        "JSON payload (common in APIs)\n",
        "3. Access Form Data\n",
        "If the client sends form-encoded data (application/x-www-form-urlencoded), you can get it with:\n",
        "4. Access JSON Data\n",
        "If the client sends JSON (application/json), you can parse it like this\n",
        "\n"
      ],
      "metadata": {
        "id": "2KhueUy2pwqp"
      }
    },
    {
      "cell_type": "markdown",
      "source": [
        "21.How would you secure a Flask API?\n",
        "-> Securing a Flask API is critical to prevent unauthorized access, data breaches, and abuse. Here are the key strategies and best practices to secure a Flask API:\n",
        "1. Authentication\n",
        "Use authentication to verify the identity of users or clients.\n",
        "2. Authorization\n",
        "Use authorization to control what authenticated users can do.\n",
        " 3. HTTPS Only (TLS)\n",
        "Always use HTTPS to encrypt data in transit.\n",
        "Never send API keys, tokens, or passwords over HTTP.\n",
        "4. Input Validation & Sanitization\n",
        "Validate all incoming data using libraries like:\n",
        "marshmallow\n",
        "pydantic (via FastAPI, or manually in Flask)\n",
        "Sanitize user input to prevent:\n",
        "SQL injection\n",
        "XSS (if returning data to HTML views)\n",
        "5. Rate Limiting & Throttling\n",
        "Prevent abuse (e.g., DDoS, brute-force attacks).\n",
        "6. Error Handling and Hiding Internals\n",
        "Avoid exposing internal errors or stack traces to users.\n",
        "7. Secure API Tokens and Secrets\n",
        "Store secrets (API keys, DB passwords, JWT secret) in environment variables.\n",
        "8. CORS Control\n",
        "Use Flask-CORS to explicitly allow trusted origins\n",
        "9. Use a Security-Focused Deployment\n",
        "Use Gunicorn or uWSGI behind Nginx.\n",
        "Keep Flask app code minimal in production.\n",
        "Regularly update dependencies (pip list --outdated).\n",
        "10. Security Libraries & Tools\n",
        "Flask-JWT-Extended – for JWT handling\n",
        "Flask-Limiter – rate limiting\n",
        "Flask-CORS – CORS control\n",
        "Flask-Talisman – Sets HTTP security headers\n"
      ],
      "metadata": {
        "id": "Lqsz-pTtqrO8"
      }
    },
    {
      "cell_type": "markdown",
      "source": [
        "22. What is the significance of the Flask-RESTful extension?\n",
        "-> The Flask-RESTful extension is a powerful and convenient tool that helps you build RESTful APIs with Flask more efficiently and cleanly.\n",
        "1. Structured API Design with Resources\n",
        "2. Cleaner Routing\n",
        "3. Built-in Request Parsing (with Validation)\n",
        "4. Automatic HTTP Status Codes\n",
        "5. Improved Maintainability\n",
        "Clean separation between logic (in resources) and routing.\n",
        "Easier to maintain and scale large APIs."
      ],
      "metadata": {
        "id": "_G9J-rbjsP4t"
      }
    },
    {
      "cell_type": "markdown",
      "source": [
        "23.What is the role of Flask’s session object?\n",
        "-> he session object in Flask is used to store data across multiple requests for a particular user — essentially, it helps maintain user session state between requests.\n",
        "\n",
        "Key Concepts\n",
        "The session object stores data on a per-client (user) basis.\n",
        "\n",
        "Data is stored server-side, but a session ID is kept in a secure cookie on the client.\n",
        "\n",
        "Flask uses signed cookies, so the client can’t tamper with the session data (unless they have the secret key)."
      ],
      "metadata": {
        "id": "CRUjy2f4s5gg"
      }
    },
    {
      "cell_type": "markdown",
      "source": [
        "                            practical"
      ],
      "metadata": {
        "id": "C692hJzHtYkX"
      }
    },
    {
      "cell_type": "markdown",
      "source": [
        "1.How do you create a basic Flask application?"
      ],
      "metadata": {
        "id": "X6LA4uiJtgsc"
      }
    },
    {
      "cell_type": "markdown",
      "source": [
        "->Step-by-Step: Create a Basic Flask Application\n",
        "   Step 1: Install Flask\n",
        "   Step 2: Create app.py\n",
        "   Step 3: Run the Flask App\n",
        "In the terminal (in the folder where app.py is):\n",
        "   "
      ],
      "metadata": {
        "id": "DFgjKdF_vRE1"
      }
    },
    {
      "cell_type": "markdown",
      "source": [
        "2.How do you serve static files like images or CSS in Flask?"
      ],
      "metadata": {
        "id": "WM1K6oIUvv7Z"
      }
    },
    {
      "cell_type": "markdown",
      "source": [
        "-> from flask import Flask, render_template\n",
        "\n",
        "app = Flask(__name__)\n",
        "\n",
        "@app.route('/')\n",
        "def home():\n",
        "    return render_template('index.html')  # Uses the static CSS and image\n",
        "\n",
        "if __name__ == '__main__':\n",
        "    app.run(debug=True)\n"
      ],
      "metadata": {
        "id": "UvBNEfTswMJR"
      }
    },
    {
      "cell_type": "markdown",
      "source": [
        "3. How do you define different routes with different HTTP methods in Flask?"
      ],
      "metadata": {
        "id": "H7eSgdFhwSN6"
      }
    },
    {
      "cell_type": "markdown",
      "source": [
        "-> from flask import Flask, request\n",
        "\n",
        "app = Flask(__name__)\n",
        "\n",
        "@app.route('/user', methods=['GET', 'POST'])\n",
        "def user():\n",
        "    if request.method == 'GET':\n",
        "        return \"You sent a GET request\"\n",
        "    elif request.method == 'POST':\n",
        "        return \"You sent a POST request\"\n"
      ],
      "metadata": {
        "id": "IHxkwy6lwa-W"
      }
    },
    {
      "cell_type": "markdown",
      "source": [
        "4. How do you render HTML templates in Flask?"
      ],
      "metadata": {
        "id": "sUXGRe7RwrjV"
      }
    },
    {
      "cell_type": "markdown",
      "source": [
        "-> return render_template('index.html', name='Alice', age=25, items=['Apple', 'Banana'])\n",
        "<p>Age: {{ age }}</p>\n",
        "<ul>\n",
        "  {% for item in items %}\n",
        "    <li>{{ item }}</li>\n",
        "  {% endfor %}\n",
        "</ul>\n",
        "\n"
      ],
      "metadata": {
        "id": "4fvpNHdhwwrC"
      }
    },
    {
      "cell_type": "markdown",
      "source": [
        "5.How can you generate URLs for routes in Flask using url_for?"
      ],
      "metadata": {
        "id": "RmztGf7KxYNN"
      }
    },
    {
      "cell_type": "markdown",
      "source": [
        "-> from flask import Flask, url_for\n",
        "\n",
        "app = Flask(__name__)\n",
        "\n",
        "@app.route('/')\n",
        "def home():\n",
        "    return 'Home Page'\n",
        "\n",
        "@app.route('/profile/<username>')\n",
        "def profile(username):\n",
        "    return f'User: {username}'\n"
      ],
      "metadata": {
        "id": "3f3QloGex_j4"
      }
    },
    {
      "cell_type": "markdown",
      "source": [
        "6.How do you handle forms in Flask?"
      ],
      "metadata": {
        "id": "1rpLo4NJyFIW"
      }
    },
    {
      "cell_type": "markdown",
      "source": [
        "-> 1. Create an HTML Form (in a template)\n",
        "Example templates/form.html:\n",
        "<!DOCTYPE html>\n",
        "<html>\n",
        "<head>\n",
        "    <title>Simple Form</title>\n",
        "</head>\n",
        "<body>\n",
        "    <h1>Submit Your Name</h1>\n",
        "    <form action=\"/submit\" method=\"POST\">\n",
        "        <input type=\"text\" name=\"username\" placeholder=\"Enter your name\" required>\n",
        "        <input type=\"submit\" value=\"Submit\">\n",
        "    </form>\n",
        "</body>\n",
        "</html>\n",
        "🔹 2. Create Flask Routes to Show and Handle the Form\n",
        "python\n",
        "Copy\n",
        "Edit\n",
        "from flask import Flask, request, render_template\n",
        "\n",
        "app = Flask(__name__)\n",
        "\n",
        "# Route to display the form\n",
        "@app.route('/')\n",
        "def index():\n",
        "    return render_template('form.html')\n",
        "\n",
        "# Route to handle form submission\n",
        "@app.route('/submit', methods=['POST'])\n",
        "def submit():\n",
        "    username = request.form.get('username')  # Access form data\n",
        "    return f'Hello, {username}! Your form was submitted successfully.'\n",
        "🔹 3. Run the App and Test\n",
        "Visit http://localhost:5000/ to see the form.\n",
        "\n",
        "Fill it out and submit.\n",
        "\n",
        "You’ll see a greeting with the submitted name."
      ],
      "metadata": {
        "id": "sAfzlcbkymGt"
      }
    },
    {
      "cell_type": "markdown",
      "source": [
        "7. How can you validate form data in Flask?"
      ],
      "metadata": {
        "id": "zzX7o_YBy09M"
      }
    },
    {
      "cell_type": "markdown",
      "source": [
        "-> from flask import Flask, request, render_template\n",
        "\n",
        "app = Flask(__name__)\n",
        "\n",
        "@app.route('/submit', methods=['POST'])\n",
        "def submit():\n",
        "    username = request.form.get('username', '').strip()\n",
        "    \n",
        "    # Basic validation\n",
        "    if not username:\n",
        "        return \"Username is required!\", 400  # Bad request status\n",
        "    \n",
        "    if len(username) < 3:\n",
        "        return \"Username must be at least 3 characters long\", 400\n",
        "\n",
        "    return f\"Hello, {username}!\"\n"
      ],
      "metadata": {
        "id": "JIq5LR3xzSvI"
      }
    },
    {
      "cell_type": "markdown",
      "source": [
        "8. How do you manage sessions in Flask?"
      ],
      "metadata": {
        "id": "vqY4rxcZzegx"
      }
    },
    {
      "cell_type": "markdown",
      "source": [
        "-> 1. Set Up a Secret Key\n",
        "Flask uses the secret key to sign session cookies for security. Without it, sessions won’t work.\n",
        "from flask import Flask, session\n",
        "app = Flask(__name__)\n",
        "app.secret_key = 'your_secret_key'  # Use a strong, random key in production\n",
        "\n",
        "2. Store Data in the Session\n",
        "@app.route('/login')\n",
        "def login():\n",
        "    session['username'] = 'don'  # Save data to session\n",
        "    return 'Logged in as don'\n",
        "3. Access Session Data\n",
        "@app.route('/profile')\n",
        "def profile():\n",
        "    user = session.get('username')\n",
        "    if user:\n",
        "        return f'Hello, {user}!'\n",
        "    else:\n",
        "        return 'You are not logged in.'\n",
        "4. Remove Data or Clear Session\n",
        "@app.route('/logout')\n",
        "def logout():\n",
        "    session.pop('username', None)  # Remove a specific key safely\n",
        "    # Or clear all session data:\n",
        "    # session.clear()\n",
        "    return 'Logged out!'\n"
      ],
      "metadata": {
        "id": "UOTH62gbz5b6"
      }
    }
  ]
}